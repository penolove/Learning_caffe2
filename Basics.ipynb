{
 "cells": [
  {
   "cell_type": "markdown",
   "metadata": {},
   "source": [
    "# Caffe2 Basic Concepts - Operators & Nets\n",
    "\n",
    "在這個tutorial 我們會介紹一些 caffe2的基本原理 : op 跟 net 怎麼寫\n",
    "\n",
    "首先,\n",
    "import caffe2 的 `core`, `workspace` , 這是你最經常會需要的\n",
    "\n",
    "如果你想要操作 caffe2 所建立出來的  protocol buffers , 你會需要 import `caffe2_pd2` from `caffe2.proto`\n",
    "\n",
    "\n"
   ]
  },
  {
   "cell_type": "code",
   "execution_count": 2,
   "metadata": {},
   "outputs": [],
   "source": [
    "# We'll also import a few standard python libraries\n",
    "from matplotlib import pyplot\n",
    "import numpy as np\n",
    "import time\n",
    "\n",
    "# These are the droids you are looking for.\n",
    "from caffe2.python import core, workspace\n",
    "from caffe2.proto import caffe2_pb2\n",
    "\n",
    "# Let's show all plots inline.\n",
    "%matplotlib inline"
   ]
  },
  {
   "cell_type": "markdown",
   "metadata": {},
   "source": [
    "如果你看到 caffe2 說你沒有 GPU support, 那就代表你只能用CPU\n",
    "\n",
    "別被嚇傻了, CPU 跑起來也不會有任何問題"
   ]
  },
  {
   "cell_type": "markdown",
   "metadata": {
    "collapsed": true
   },
   "source": [
    "## Workspaces\n",
    "\n",
    "讓我們先介紹一下 workspace, 這是所有data 住的地方\n",
    "\n",
    "如果你很熟悉 Matlab, workspace 就由 你所 `創造、並存在記憶體的 blob` 組成\n",
    "\n",
    "現在將 blob 考慮成一個 n-dimensional tensor (就像 numpy 的 ndarray), 但他是 contiguous (memory allocation)\n",
    "\n",
    "等等我們會展示給你看 其實blob是一個 類型指標, 可以儲存任何類型的 c++ 物件, tensor 只是其中最常見的一種\n",
    "\n",
    "讓我們看一下 interface 長怎樣：\n",
    "\n",
    "`Blobs()` 將所有的blobs 秀出來\n",
    "`HasBlob()` 拉出指定的blob from workspace, 現在裡面什麼都沒有\n"
   ]
  },
  {
   "cell_type": "code",
   "execution_count": 3,
   "metadata": {},
   "outputs": [
    {
     "name": "stdout",
     "output_type": "stream",
     "text": [
      "Current blobs in the workspace: []\n",
      "Workspace has blob 'X'? False\n"
     ]
    }
   ],
   "source": [
    "print(\"Current blobs in the workspace: {}\".format(workspace.Blobs()))\n",
    "print(\"Workspace has blob 'X'? {}\".format(workspace.HasBlob(\"X\")))"
   ]
  },
  {
   "cell_type": "markdown",
   "metadata": {},
   "source": [
    "讓我們用 `FeedBlob()` 塞個東西到 workspace "
   ]
  },
  {
   "cell_type": "code",
   "execution_count": 4,
   "metadata": {},
   "outputs": [
    {
     "name": "stdout",
     "output_type": "stream",
     "text": [
      "Generated X from numpy:\n",
      "[[-0.91712683  0.36256164 -0.09739182]\n",
      " [ 0.56679547  1.40343189 -0.54806918]]\n"
     ]
    },
    {
     "data": {
      "text/plain": [
       "True"
      ]
     },
     "execution_count": 4,
     "metadata": {},
     "output_type": "execute_result"
    }
   ],
   "source": [
    "X = np.random.randn(2, 3).astype(np.float32)\n",
    "print(\"Generated X from numpy:\\n{}\".format(X))\n",
    "workspace.FeedBlob(\"X\", X)"
   ]
  },
  {
   "cell_type": "markdown",
   "metadata": {},
   "source": [
    "現在我們可以看看blobs在 workspace 中長怎樣"
   ]
  },
  {
   "cell_type": "code",
   "execution_count": 5,
   "metadata": {
    "scrolled": true
   },
   "outputs": [
    {
     "name": "stdout",
     "output_type": "stream",
     "text": [
      "Current blobs in the workspace: [u'X']\n",
      "Workspace has blob 'X'? True\n",
      "Fetched X:\n",
      "[[-0.91712683  0.36256164 -0.09739182]\n",
      " [ 0.56679547  1.40343189 -0.54806918]]\n"
     ]
    }
   ],
   "source": [
    "print(\"Current blobs in the workspace: {}\".format(workspace.Blobs()))\n",
    "print(\"Workspace has blob 'X'? {}\".format(workspace.HasBlob(\"X\")))\n",
    "print(\"Fetched X:\\n{}\".format(workspace.FetchBlob(\"X\")))"
   ]
  },
  {
   "cell_type": "markdown",
   "metadata": {},
   "source": [
    "挖, 塞進去惹, 好棒棒\n",
    "\n",
    "我們驗證一下他們一不一樣"
   ]
  },
  {
   "cell_type": "code",
   "execution_count": 6,
   "metadata": {},
   "outputs": [],
   "source": [
    "np.testing.assert_array_equal(X, workspace.FetchBlob(\"X\"))"
   ]
  },
  {
   "cell_type": "markdown",
   "metadata": {},
   "source": [
    "一樣呢, 真棒\n",
    "\n",
    "接著 我們如果你query一個 不存在的傢伙 會怎麼樣"
   ]
  },
  {
   "cell_type": "code",
   "execution_count": 7,
   "metadata": {},
   "outputs": [
    {
     "name": "stdout",
     "output_type": "stream",
     "text": [
      "[enforce fail at pybind_state.cc:173] ws->HasBlob(name). Can't find blob: invincible_pink_unicorn \n"
     ]
    }
   ],
   "source": [
    "try:\n",
    "    workspace.FetchBlob(\"invincible_pink_unicorn\")\n",
    "except RuntimeError as err:\n",
    "    print(err)"
   ]
  },
  {
   "cell_type": "markdown",
   "metadata": {},
   "source": [
    "先跟你介紹個你可能不會馬上用到的功能: multiple workspaces\n",
    "\n",
    "在python裡, 你可以有 多個workspaces 且可以輕易切換\n",
    "\n",
    "不同workspace 內的Blob 是不共通的, 使用 `CurrentWorkspace` 可以知道你在哪個\n",
    "\n",
    "讓我們使用 `SwitchWorkSpace` 切換到 `gutentag` workspace, 如果該workspace不存在 會自動創新的.\n"
   ]
  },
  {
   "cell_type": "code",
   "execution_count": 8,
   "metadata": {},
   "outputs": [
    {
     "name": "stdout",
     "output_type": "stream",
     "text": [
      "Current workspace: default\n",
      "Current blobs in the workspace: [u'X']\n",
      "Current workspace: gutentag\n",
      "Current blobs in the workspace: []\n"
     ]
    }
   ],
   "source": [
    "print(\"Current workspace: {}\".format(workspace.CurrentWorkspace()))\n",
    "print(\"Current blobs in the workspace: {}\".format(workspace.Blobs()))\n",
    "\n",
    "# Switch the workspace. The second argument \"True\" means creating \n",
    "# the workspace if it is missing.\n",
    "workspace.SwitchWorkspace(\"gutentag\", True)\n",
    "\n",
    "# Let's print the current workspace. Note that there is nothing in the\n",
    "# workspace yet.\n",
    "print(\"Current workspace: {}\".format(workspace.CurrentWorkspace()))\n",
    "print(\"Current blobs in the workspace: {}\".format(workspace.Blobs()))"
   ]
  },
  {
   "cell_type": "markdown",
   "metadata": {},
   "source": [
    "好惹讓我們切回 default"
   ]
  },
  {
   "cell_type": "code",
   "execution_count": 9,
   "metadata": {},
   "outputs": [
    {
     "name": "stdout",
     "output_type": "stream",
     "text": [
      "Current workspace: default\n",
      "Current blobs in the workspace: [u'X']\n"
     ]
    }
   ],
   "source": [
    "workspace.SwitchWorkspace(\"default\")\n",
    "print(\"Current workspace: {}\".format(workspace.CurrentWorkspace()))\n",
    "print(\"Current blobs in the workspace: {}\".format(workspace.Blobs()))"
   ]
  },
  {
   "cell_type": "markdown",
   "metadata": {},
   "source": [
    "最後 `ResetWorkspace` 會將目前的 workspace 裡的所有東西清空"
   ]
  },
  {
   "cell_type": "code",
   "execution_count": 10,
   "metadata": {},
   "outputs": [
    {
     "data": {
      "text/plain": [
       "True"
      ]
     },
     "execution_count": 10,
     "metadata": {},
     "output_type": "execute_result"
    }
   ],
   "source": [
    "workspace.ResetWorkspace()"
   ]
  },
  {
   "cell_type": "markdown",
   "metadata": {},
   "source": [
    "##### Operators\n",
    "Operators in Caffe2 像是一種 function .\n",
    "從 C++ 的角度, 他們 都會由相同的 interface 導出, 而且會使用 `type`來註冊, 所以我們可以在runtime 時 call different opertator.\n",
    "operators 的 Interface 於 `caff2/proto/caffe2.proto` 定義. 基本上, 他接一串 input 跟產出 一串output.\n",
    "\n",
    "記得, 當我們說 create an operator 在 Caffe2 python 時, 什麼事情都還沒跑, 只是創造一個 protocol buffer 定義了 該operator是什麼, 後來這些 protocal buffer 這個會被送到 C++ beckend 用來被執行\n",
    "\n",
    "\n",
    "如果你對 protocal buffer 不熟悉, 他是一種json-like serialization tool for structured data. 可以在這邊找到更多資訊[here](https://developers.google.com/protocol-buffers/).\n",
    "\n",
    "讓我們看一個實際的例子"
   ]
  },
  {
   "cell_type": "code",
   "execution_count": 11,
   "metadata": {},
   "outputs": [],
   "source": [
    "# 建立一個operation,\n",
    "op = core.CreateOperator(\n",
    "    \"Relu\", # The type of operator that we want to run\n",
    "    [\"X\"], # A list of input blobs by their names\n",
    "    [\"Y\"], # A list of output blobs by their names\n",
    ")\n",
    "# and we are done!"
   ]
  },
  {
   "cell_type": "markdown",
   "metadata": {},
   "source": [
    "就像武們說的, 建一個op 其實只是一個 protobuf object, 讓我們看一下其內容"
   ]
  },
  {
   "cell_type": "code",
   "execution_count": 12,
   "metadata": {
    "scrolled": true
   },
   "outputs": [
    {
     "name": "stdout",
     "output_type": "stream",
     "text": [
      "Type of the created op is: <class 'caffe2.proto.caffe2_pb2.OperatorDef'>\n",
      "Content:\n",
      "\n",
      "input: \"X\"\n",
      "output: \"Y\"\n",
      "name: \"\"\n",
      "type: \"Relu\"\n",
      "\n"
     ]
    }
   ],
   "source": [
    "print(\"Type of the created op is: {}\".format(type(op)))\n",
    "print(\"Content:\\n\")\n",
    "print(str(op))"
   ]
  },
  {
   "cell_type": "markdown",
   "metadata": {},
   "source": [
    "好讓我們, 跑一下 operator. 我們需要先將 X 塞到 workspace\n",
    "\n",
    "接著 最簡單執行 operator 的方式是 透過 `workspace.RunOperatorOnce(operator)`"
   ]
  },
  {
   "cell_type": "code",
   "execution_count": 13,
   "metadata": {},
   "outputs": [
    {
     "data": {
      "text/plain": [
       "True"
      ]
     },
     "execution_count": 13,
     "metadata": {},
     "output_type": "execute_result"
    }
   ],
   "source": [
    "workspace.FeedBlob(\"X\", np.random.randn(2, 3).astype(np.float32))\n",
    "workspace.RunOperatorOnce(op)"
   ]
  },
  {
   "cell_type": "markdown",
   "metadata": {},
   "source": [
    "執行之後我們看一下 這個operator有沒有作對的事情\n",
    "\n",
    "(這裡尻的是NN 的 activation function [Relu](https://en.wikipedia.org/wiki/Rectifier_(neural_networks)))"
   ]
  },
  {
   "cell_type": "code",
   "execution_count": 14,
   "metadata": {},
   "outputs": [
    {
     "name": "stdout",
     "output_type": "stream",
     "text": [
      "Current blobs in the workspace: [u'X', u'Y']\n",
      "\n",
      "X:\n",
      "[[-0.38703045  0.52586222 -0.10568336]\n",
      " [ 0.26304251 -0.12903033 -0.6677742 ]]\n",
      "\n",
      "Y:\n",
      "[[ 0.          0.52586222  0.        ]\n",
      " [ 0.26304251  0.          0.        ]]\n",
      "\n",
      "Expected:\n",
      "[[ 0.          0.52586222  0.        ]\n",
      " [ 0.26304251  0.          0.        ]]\n",
      "\n"
     ]
    }
   ],
   "source": [
    "print(\"Current blobs in the workspace: {}\\n\".format(workspace.Blobs()))\n",
    "print(\"X:\\n{}\\n\".format(workspace.FetchBlob(\"X\")))\n",
    "print(\"Y:\\n{}\\n\".format(workspace.FetchBlob(\"Y\")))\n",
    "print(\"Expected:\\n{}\\n\".format(np.maximum(workspace.FetchBlob(\"X\"), 0)))"
   ]
  },
  {
   "cell_type": "markdown",
   "metadata": {},
   "source": [
    "喔喔喔 也就是將 operator(protobuf)送到 backend 由其處理資訊 Y = f(X)  並將 blob Y 在放到 workspace內"
   ]
  },
  {
   "cell_type": "markdown",
   "metadata": {},
   "source": [
    "Operator 如果需要也能攜帶一些 選擇性的參數.\n",
    "\n",
    "指定這些參數透過 key-value pair的方式.\n",
    "\n",
    "讓我們看一個簡單的例子, \n",
    "\n",
    "這個會用高斯常態分配 N(1,1) 將一個tensor 初始化\n"
   ]
  },
  {
   "cell_type": "code",
   "execution_count": 15,
   "metadata": {
    "scrolled": true
   },
   "outputs": [
    {
     "name": "stdout",
     "output_type": "stream",
     "text": [
      "Content of op:\n",
      "\n",
      "output: \"Z\"\n",
      "name: \"\"\n",
      "type: \"GaussianFill\"\n",
      "arg {\n",
      "  name: \"std\"\n",
      "  f: 1.0\n",
      "}\n",
      "arg {\n",
      "  name: \"shape\"\n",
      "  ints: 100\n",
      "  ints: 100\n",
      "}\n",
      "arg {\n",
      "  name: \"mean\"\n",
      "  f: 1.0\n",
      "}\n",
      "\n"
     ]
    }
   ],
   "source": [
    "op = core.CreateOperator(\n",
    "    \"GaussianFill\",\n",
    "    [], # GaussianFill does not need any parameters.\n",
    "    [\"Z\"],\n",
    "    shape=[100, 100], # shape argument as a list of ints.\n",
    "    mean=1.0,  # mean as a single float\n",
    "    std=1.0, # std as a single float\n",
    ")\n",
    "print(\"Content of op:\\n\")\n",
    "print(str(op))"
   ]
  },
  {
   "cell_type": "markdown",
   "metadata": {},
   "source": [
    "讓我們跑他一下"
   ]
  },
  {
   "cell_type": "code",
   "execution_count": 16,
   "metadata": {},
   "outputs": [
    {
     "data": {
      "text/plain": [
       "Text(0.5,1,u'Distribution of Z')"
      ]
     },
     "execution_count": 16,
     "metadata": {},
     "output_type": "execute_result"
    },
    {
     "data": {
      "image/png": "[encoded data removed]",
      "text/plain": [
       "<matplotlib.figure.Figure at 0x7fc971958b90>"
      ]
     },
     "metadata": {},
     "output_type": "display_data"
    }
   ],
   "source": [
    "workspace.RunOperatorOnce(op)\n",
    "temp = workspace.FetchBlob(\"Z\")\n",
    "pyplot.hist(temp.flatten(), bins=50)\n",
    "pyplot.title(\"Distribution of Z\")"
   ]
  },
  {
   "cell_type": "markdown",
   "metadata": {},
   "source": [
    "把tensor 打平看一下分配 \n",
    "你就看到一個常態1,1的分配, wow~"
   ]
  },
  {
   "cell_type": "code",
   "execution_count": 17,
   "metadata": {},
   "outputs": [
    {
     "data": {
      "text/plain": [
       "numpy.ndarray"
      ]
     },
     "execution_count": 17,
     "metadata": {},
     "output_type": "execute_result"
    }
   ],
   "source": [
    "type(temp)"
   ]
  },
  {
   "cell_type": "markdown",
   "metadata": {},
   "source": [
    "## Nets\n",
    "\n",
    "Nets 基本上是個 computation graphs, 我們保留 `Net` 為了跟過去的一致性 (同時也是像 neural net 致敬).\n",
    "\n",
    "一個Net 是由多個 operator 組成, 就像一個由 序列的 commands組成的程式.\n",
    "\n",
    "當我們說道net時, 我們通常會順便說一下 BlobReference, 這是個 物件用來將 string 打包, 因此我們可以容易的將operator chain在一起\n",
    "\n",
    "讓我們做一個簡單的運算如下\n",
    "```\n",
    "X = np.random.randn(2, 3)\n",
    "W = np.random.randn(5, 3)\n",
    "b = np.ones(5)\n",
    "Y = X * W^T + b\n",
    "```\n",
    "我們會展示如何一步一步做到他\n",
    "\n",
    " Caffe2 的 `core.Net` is a wrapper class around a NetDef protocol buffer."
   ]
  },
  {
   "cell_type": "markdown",
   "metadata": {},
   "source": [
    "\n",
    "當創造network 的時候, 基本上其底下的 protocol buffer 是空的除了他自己的network name, 讓我們展示個給你看"
   ]
  },
  {
   "cell_type": "code",
   "execution_count": 18,
   "metadata": {
    "scrolled": false
   },
   "outputs": [
    {
     "name": "stdout",
     "output_type": "stream",
     "text": [
      "Current network proto:\n",
      "\n",
      "name: \"my_first_net\"\n",
      "\n"
     ]
    }
   ],
   "source": [
    "net = core.Net(\"my_first_net\")\n",
    "print(\"Current network proto:\\n\\n{}\".format(net.Proto()))"
   ]
  },
  {
   "cell_type": "markdown",
   "metadata": {},
   "source": [
    "讓我們建立一個blob稱作 X, 且使用 GaussianFill 塞一些隨機數值進去"
   ]
  },
  {
   "cell_type": "code",
   "execution_count": 19,
   "metadata": {
    "scrolled": true
   },
   "outputs": [
    {
     "name": "stdout",
     "output_type": "stream",
     "text": [
      "New network proto:\n",
      "\n",
      "name: \"my_first_net\"\n",
      "op {\n",
      "  output: \"X\"\n",
      "  name: \"\"\n",
      "  type: \"GaussianFill\"\n",
      "  arg {\n",
      "    name: \"std\"\n",
      "    f: 1.0\n",
      "  }\n",
      "  arg {\n",
      "    name: \"run_once\"\n",
      "    i: 0\n",
      "  }\n",
      "  arg {\n",
      "    name: \"shape\"\n",
      "    ints: 2\n",
      "    ints: 3\n",
      "  }\n",
      "  arg {\n",
      "    name: \"mean\"\n",
      "    f: 0.0\n",
      "  }\n",
      "}\n",
      "\n"
     ]
    }
   ],
   "source": [
    "X = net.GaussianFill([], [\"X\"], mean=0.0, std=1.0, shape=[2, 3], run_once=0)\n",
    "print(\"New network proto:\\n\\n{}\".format(net.Proto()))"
   ]
  },
  {
   "cell_type": "markdown",
   "metadata": {
    "collapsed": true
   },
   "source": [
    "你可能已經觀察到一些跟剛才 用`core.CreateOperator` 創op 不同的地方. \n",
    "\n",
    "基本上, 當我們有net了 你可以直接創造一個 operator *跟* 將其同時加到 net裡.\n",
    "透過 python tricks: 當你call `net.SomeOp` 這個 SomeOp 已經是某個op 的 registered type string. 意同於\n",
    "\n",
    "```\n",
    "op = core.CreateOperator(\"SomeOp\", ...)\n",
    "net.Proto().op.append(op)\n",
    "```\n",
    "\n",
    "你可能還會好奇 X 這個變數是什麼, 他是個 `BlobReference`  基本上紀錄兩件事\n",
    "- X的 name, 你可以用str(X)取得\n",
    "- X 由哪個net 創造, 紀錄於 internal variable `_from_net`, 但基本上你不太會需要這個\n",
    "\n",
    "讓我們驗證一下, 記住 我們其實什麼都還沒跑, 所以 X 現在什麼都沒有只是個 symbol\n",
    "\n",
    "在這個當下 不要期待拿到任何的數值:)"
   ]
  },
  {
   "cell_type": "code",
   "execution_count": 20,
   "metadata": {
    "scrolled": true
   },
   "outputs": [
    {
     "name": "stdout",
     "output_type": "stream",
     "text": [
      "Type of X is: <class 'caffe2.python.core.BlobReference'>\n",
      "The blob name is: X\n"
     ]
    }
   ],
   "source": [
    "print(\"Type of X is: {}\".format(type(X)))\n",
    "print(\"The blob name is: {}\".format(str(X)))"
   ]
  },
  {
   "cell_type": "markdown",
   "metadata": {},
   "source": [
    "好 讓我們在net中把 W,b 搞出來"
   ]
  },
  {
   "cell_type": "code",
   "execution_count": 21,
   "metadata": {},
   "outputs": [],
   "source": [
    "W = net.GaussianFill([], [\"W\"], mean=0.0, std=1.0, shape=[5, 3], run_once=0)\n",
    "b = net.ConstantFill([], [\"b\"], shape=[5,], value=1.0, run_once=0)"
   ]
  },
  {
   "cell_type": "markdown",
   "metadata": {},
   "source": [
    "所以如果我們還需要加額外的operator到net上\n",
    "\n",
    "現在 介紹個簡單的 蜜糖語法: 因為我們已經知道 BlobReference objects 是來自哪個net了, 你可以用這些 BlobReferences 來創 operators. \n",
    "\n",
    "好直接創個FC operator 給你看一下\n"
   ]
  },
  {
   "cell_type": "code",
   "execution_count": 22,
   "metadata": {},
   "outputs": [],
   "source": [
    "Y = X.FC([W, b], [\"Y\"])"
   ]
  },
  {
   "cell_type": "markdown",
   "metadata": {},
   "source": [
    "這個魔法底下, `X.FC(...)` 其實是將 `X` 塞入 `net.FC` 當第一個 input ,  所以其實我們做的事就是\n",
    "\n",
    "```\n",
    "Y = net.FC([X, W, b], [\"Y\"])\n",
    "```\n",
    "\n",
    "好讓我們來好好看一下現在的network長相"
   ]
  },
  {
   "cell_type": "code",
   "execution_count": 23,
   "metadata": {},
   "outputs": [
    {
     "name": "stdout",
     "output_type": "stream",
     "text": [
      "Current network proto:\n",
      "\n",
      "name: \"my_first_net\"\n",
      "op {\n",
      "  output: \"X\"\n",
      "  name: \"\"\n",
      "  type: \"GaussianFill\"\n",
      "  arg {\n",
      "    name: \"std\"\n",
      "    f: 1.0\n",
      "  }\n",
      "  arg {\n",
      "    name: \"run_once\"\n",
      "    i: 0\n",
      "  }\n",
      "  arg {\n",
      "    name: \"shape\"\n",
      "    ints: 2\n",
      "    ints: 3\n",
      "  }\n",
      "  arg {\n",
      "    name: \"mean\"\n",
      "    f: 0.0\n",
      "  }\n",
      "}\n",
      "op {\n",
      "  output: \"W\"\n",
      "  name: \"\"\n",
      "  type: \"GaussianFill\"\n",
      "  arg {\n",
      "    name: \"std\"\n",
      "    f: 1.0\n",
      "  }\n",
      "  arg {\n",
      "    name: \"run_once\"\n",
      "    i: 0\n",
      "  }\n",
      "  arg {\n",
      "    name: \"shape\"\n",
      "    ints: 5\n",
      "    ints: 3\n",
      "  }\n",
      "  arg {\n",
      "    name: \"mean\"\n",
      "    f: 0.0\n",
      "  }\n",
      "}\n",
      "op {\n",
      "  output: \"b\"\n",
      "  name: \"\"\n",
      "  type: \"ConstantFill\"\n",
      "  arg {\n",
      "    name: \"run_once\"\n",
      "    i: 0\n",
      "  }\n",
      "  arg {\n",
      "    name: \"shape\"\n",
      "    ints: 5\n",
      "  }\n",
      "  arg {\n",
      "    name: \"value\"\n",
      "    f: 1.0\n",
      "  }\n",
      "}\n",
      "op {\n",
      "  input: \"X\"\n",
      "  input: \"W\"\n",
      "  input: \"b\"\n",
      "  output: \"Y\"\n",
      "  name: \"\"\n",
      "  type: \"FC\"\n",
      "}\n",
      "\n"
     ]
    }
   ],
   "source": [
    "print(\"Current network proto:\\n\\n{}\".format(net.Proto()))"
   ]
  },
  {
   "cell_type": "markdown",
   "metadata": {},
   "source": [
    "是不是太囉唆了？ 讓我們 把他視覺化成一個 graph. \n",
    "\n",
    "Caffe2 提供一個最小化的 graph visualization tool\n",
    "\n",
    "我們在ipython 裡show他一個"
   ]
  },
  {
   "cell_type": "code",
   "execution_count": 24,
   "metadata": {},
   "outputs": [
    {
     "data": {
      "image/png": "[encoded data removed]",
      "text/plain": [
       "<IPython.core.display.Image object>"
      ]
     },
     "execution_count": 24,
     "metadata": {
      "image/png": {
       "width": 800
      }
     },
     "output_type": "execute_result"
    }
   ],
   "source": [
    "from caffe2.python import net_drawer\n",
    "from IPython import display\n",
    "graph = net_drawer.GetPydotGraph(net, rankdir=\"LR\")\n",
    "display.Image(graph.create_png(), width=800)"
   ]
  },
  {
   "cell_type": "markdown",
   "metadata": {},
   "source": [
    "所以我們已經定義了一個 `Net` 但是沒有任何東西被執行. 記住上方的net 基本上只是 個 protobuf 紀錄了 network的 definition. \n",
    "\n",
    "當我們實際想要跑這個network的時候, 實際發生的事情是：\n",
    "- 實例化 一個 C++ net object from protobug;\n",
    "- 呼叫 已實例化net 的 Run() function\n",
    "\n",
    "再做任何是之前 我們應該先清空先前 workspace 中的 variables with  `ResetWorkspace()`.\n",
    "\n",
    "接著那兩有兩種方式用來run net from Python. 我們下面會用第一個option 當作example:\n",
    "1. 用`workspace.RunNetOnce()`, 建立, 跑, 馬上 desturct network\n",
    "2. 用稍微麻煩一點的方式, 包含兩步驟:\n",
    "\n",
    "    (a) call `workspace.CreateNet()` 創造 C++ net 物件, 由workspace 所擁有\n",
    "    \n",
    "    (b) 用 `workspace.RunNet()` 並給予 name of the nework"
   ]
  },
  {
   "cell_type": "code",
   "execution_count": 26,
   "metadata": {
    "scrolled": false
   },
   "outputs": [
    {
     "name": "stdout",
     "output_type": "stream",
     "text": [
      "Current blobs in the workspace: []\n",
      "Blobs in the workspace after execution: [u'W', u'X', u'Y', u'b']\n",
      "W:\n",
      "[[-0.76547468 -0.58089137 -0.84373212]\n",
      " [ 0.02712025 -0.95473266  1.38141382]\n",
      " [ 1.86745214  0.54926169  0.34149343]\n",
      " [-0.44601798  0.022399    0.39733365]\n",
      " [-3.65019441 -0.38386416 -0.54719496]]\n",
      "X:\n",
      "[[ 0.38527066 -0.17687318 -0.26254421]\n",
      " [-0.76804817 -0.98803753 -2.1666019 ]]\n",
      "Y:\n",
      "[[ 1.02934611  0.81663305  1.53266764  0.71988291 -0.1947546 ]\n",
      " [ 3.98989558 -1.07049179 -1.71686459  0.45956838  5.36835098]]\n",
      "b:\n",
      "[ 1.  1.  1.  1.  1.]\n"
     ]
    }
   ],
   "source": [
    "workspace.ResetWorkspace()  # 清空\n",
    "print(\"Current blobs in the workspace: {}\".format(workspace.Blobs()))  # 現在workspace 裡有啥\n",
    "workspace.RunNetOnce(net)  # 跑一次\n",
    "print(\"Blobs in the workspace after execution: {}\".format(workspace.Blobs()))  # 跑玩 workspace 裡有啥\n",
    "# Let's dump the contents of the blobs\n",
    "for name in workspace.Blobs():\n",
    "    print(\"{}:\\n{}\".format(name, workspace.FetchBlob(name)))  # 每一個 show一下"
   ]
  },
  {
   "cell_type": "markdown",
   "metadata": {},
   "source": [
    "現在讓我們試第二種創net的方法, 跟跑他, 一樣先把 workspace variable清光 `ResetWorkspace()`, \n",
    "\n",
    "接著 創net object with worksapce `CreateNet(net_object)`\n",
    "\n",
    "跑 net with `RunNet(net_name)`.\n"
   ]
  },
  {
   "cell_type": "code",
   "execution_count": 27,
   "metadata": {},
   "outputs": [
    {
     "name": "stdout",
     "output_type": "stream",
     "text": [
      "Current blobs in the workspace: []\n",
      "Blobs in the workspace after execution: [u'W', u'X', u'Y', u'b']\n",
      "W:\n",
      "[[-0.10392593  0.36114728 -0.12342339]\n",
      " [ 0.14249685 -1.75026572 -1.00734639]\n",
      " [ 0.78308648  1.07265329 -1.82039893]\n",
      " [ 1.12831903  0.35040882 -0.55579144]\n",
      " [ 0.28380862  0.18905655 -0.63279754]]\n",
      "X:\n",
      "[[-0.02035939 -1.56992447 -1.11619127]\n",
      " [-0.85490125  0.13232879  0.92667669]]\n",
      "Y:\n",
      "[[ 0.57290596  4.86927509  1.33198547  1.04728222  1.40374041]\n",
      " [ 1.02226305 -0.28691578 -1.21443987 -0.43327117  0.19599056]]\n",
      "b:\n",
      "[ 1.  1.  1.  1.  1.]\n"
     ]
    }
   ],
   "source": [
    "workspace.ResetWorkspace()\n",
    "print(\"Current blobs in the workspace: {}\".format(workspace.Blobs()))\n",
    "workspace.CreateNet(net)\n",
    "workspace.RunNet(net.Proto().name)\n",
    "print(\"Blobs in the workspace after execution: {}\".format(workspace.Blobs()))\n",
    "for name in workspace.Blobs():\n",
    "    print(\"{}:\\n{}\".format(name, workspace.FetchBlob(name)))"
   ]
  },
  {
   "cell_type": "markdown",
   "metadata": {},
   "source": [
    "一些關於 `RunNetOnce` and `RunNet` 的差異\n",
    "\n",
    "主要的差異應該是 time overhead, 因為 `RunNetOnce` 包含 (序列化) (跟將 protobuf 在 python 與 C 之間傳遞), 還有 (實例化 net)\n",
    "\n",
    "這可能會久一點, 讓我們看一下時間差異"
   ]
  },
  {
   "cell_type": "code",
   "execution_count": 25,
   "metadata": {},
   "outputs": [
    {
     "name": "stdout",
     "output_type": "stream",
     "text": [
      "Run time per RunNetOnce: 0.000364284992218\n",
      "Run time per RunNet: 4.42600250244e-06\n"
     ]
    }
   ],
   "source": [
    "# It seems that %timeit magic does not work well with\n",
    "# C++ extensions so we'll basically do for loops\n",
    "start = time.time()\n",
    "for i in range(1000):\n",
    "    workspace.RunNetOnce(net)\n",
    "end = time.time()\n",
    "print('Run time per RunNetOnce: {}'.format((end - start) / 1000))\n",
    "\n",
    "start = time.time()\n",
    "for i in range(1000):\n",
    "    workspace.RunNet(net.Proto().name)\n",
    "end = time.time()\n",
    "print('Run time per RunNet: {}'.format((end - start) / 1000))"
   ]
  },
  {
   "cell_type": "markdown",
   "metadata": {
    "collapsed": true
   },
   "source": [
    "OK, 上面已經是少數的關鍵 componets , 如果你想從 python 來使用 Caffe2 我們會增加更多的 tutorial 如果我們發現更多的需求\n",
    "\n",
    "接著試著看一下其他的tutorial吧"
   ]
  }
 ],
 "metadata": {
  "kernelspec": {
   "display_name": "Python 2",
   "language": "python",
   "name": "python2"
  },
  "language_info": {
   "codemirror_mode": {
    "name": "ipython",
    "version": 2
   },
   "file_extension": ".py",
   "mimetype": "text/x-python",
   "name": "python",
   "nbconvert_exporter": "python",
   "pygments_lexer": "ipython2",
   "version": "2.7.12"
  }
 },
 "nbformat": 4,
 "nbformat_minor": 1
}
